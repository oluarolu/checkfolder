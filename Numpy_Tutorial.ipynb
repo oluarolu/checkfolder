{
  "nbformat": 4,
  "nbformat_minor": 0,
  "metadata": {
    "colab": {
      "name": "Numpy Tutorial.ipynb",
      "provenance": [],
      "authorship_tag": "ABX9TyP7iv1z7cGTj4gNcclyAVNj",
      "include_colab_link": true
    },
    "kernelspec": {
      "name": "python3",
      "display_name": "Python 3"
    }
  },
  "cells": [
    {
      "cell_type": "markdown",
      "metadata": {
        "id": "view-in-github",
        "colab_type": "text"
      },
      "source": [
        "<a href=\"https://colab.research.google.com/github/oluarolu/checkfolder/blob/master/Numpy_Tutorial.ipynb\" target=\"_parent\"><img src=\"https://colab.research.google.com/assets/colab-badge.svg\" alt=\"Open In Colab\"/></a>"
      ]
    },
    {
      "cell_type": "code",
      "metadata": {
        "id": "SbPbuKElNStO",
        "colab_type": "code",
        "colab": {}
      },
      "source": [
        "import numpy as np"
      ],
      "execution_count": 0,
      "outputs": []
    },
    {
      "cell_type": "code",
      "metadata": {
        "id": "pFO-rfG2OFFM",
        "colab_type": "code",
        "colab": {}
      },
      "source": [
        "L = [1, 2, 3]"
      ],
      "execution_count": 0,
      "outputs": []
    },
    {
      "cell_type": "code",
      "metadata": {
        "id": "bnAekAsxOKnm",
        "colab_type": "code",
        "colab": {}
      },
      "source": [
        "A = np.array([1, 2, 3])"
      ],
      "execution_count": 0,
      "outputs": []
    },
    {
      "cell_type": "code",
      "metadata": {
        "id": "YhdIo5c7OSl2",
        "colab_type": "code",
        "colab": {
          "base_uri": "https://localhost:8080/",
          "height": 69
        },
        "outputId": "583ed034-c63e-4d36-ab5b-09b0588558ed"
      },
      "source": [
        "for e in L:\n",
        "  print(e)"
      ],
      "execution_count": 4,
      "outputs": [
        {
          "output_type": "stream",
          "text": [
            "1\n",
            "2\n",
            "3\n"
          ],
          "name": "stdout"
        }
      ]
    },
    {
      "cell_type": "code",
      "metadata": {
        "id": "welsVCxqOX4C",
        "colab_type": "code",
        "colab": {
          "base_uri": "https://localhost:8080/",
          "height": 69
        },
        "outputId": "4eec1d98-2596-4736-8c2c-8ff13bcf9055"
      },
      "source": [
        "for e in A:\n",
        "  print(e)"
      ],
      "execution_count": 5,
      "outputs": [
        {
          "output_type": "stream",
          "text": [
            "1\n",
            "2\n",
            "3\n"
          ],
          "name": "stdout"
        }
      ]
    },
    {
      "cell_type": "code",
      "metadata": {
        "id": "m-0Q8iu-Og1w",
        "colab_type": "code",
        "colab": {}
      },
      "source": [
        "L.append(4)"
      ],
      "execution_count": 0,
      "outputs": []
    },
    {
      "cell_type": "code",
      "metadata": {
        "id": "Dw40Zh2EOsaP",
        "colab_type": "code",
        "colab": {
          "base_uri": "https://localhost:8080/",
          "height": 35
        },
        "outputId": "1c8bcd1e-d3e3-4191-c4c8-acbb2f488915"
      },
      "source": [
        "L"
      ],
      "execution_count": 8,
      "outputs": [
        {
          "output_type": "execute_result",
          "data": {
            "text/plain": [
              "[1, 2, 3, 4]"
            ]
          },
          "metadata": {
            "tags": []
          },
          "execution_count": 8
        }
      ]
    },
    {
      "cell_type": "code",
      "metadata": {
        "id": "nazpUcmyO1nQ",
        "colab_type": "code",
        "colab": {
          "base_uri": "https://localhost:8080/",
          "height": 35
        },
        "outputId": "3bd6a4c0-3018-4be4-97e3-2afcdd728185"
      },
      "source": [
        "L + [5]"
      ],
      "execution_count": 9,
      "outputs": [
        {
          "output_type": "execute_result",
          "data": {
            "text/plain": [
              "[1, 2, 3, 4, 5]"
            ]
          },
          "metadata": {
            "tags": []
          },
          "execution_count": 9
        }
      ]
    },
    {
      "cell_type": "markdown",
      "metadata": {
        "id": "0_-rl5zmPE_o",
        "colab_type": "text"
      },
      "source": [
        "Broadcasting ---- in numpy"
      ]
    },
    {
      "cell_type": "code",
      "metadata": {
        "id": "0qQ1LYkyO6tk",
        "colab_type": "code",
        "colab": {
          "base_uri": "https://localhost:8080/",
          "height": 35
        },
        "outputId": "6fbac78f-8dde-40c4-c125-205a656827f0"
      },
      "source": [
        "A + np.array([4])"
      ],
      "execution_count": 10,
      "outputs": [
        {
          "output_type": "execute_result",
          "data": {
            "text/plain": [
              "array([5, 6, 7])"
            ]
          },
          "metadata": {
            "tags": []
          },
          "execution_count": 10
        }
      ]
    },
    {
      "cell_type": "markdown",
      "metadata": {
        "id": "WQ46UyWYPMY7",
        "colab_type": "text"
      },
      "source": [
        "vector addition"
      ]
    },
    {
      "cell_type": "code",
      "metadata": {
        "id": "zShzdhIJPI87",
        "colab_type": "code",
        "colab": {
          "base_uri": "https://localhost:8080/",
          "height": 35
        },
        "outputId": "14656a31-854b-4de0-aa1d-7935d9852c63"
      },
      "source": [
        "A + np.array([4,5,6])"
      ],
      "execution_count": 11,
      "outputs": [
        {
          "output_type": "execute_result",
          "data": {
            "text/plain": [
              "array([5, 7, 9])"
            ]
          },
          "metadata": {
            "tags": []
          },
          "execution_count": 11
        }
      ]
    },
    {
      "cell_type": "markdown",
      "metadata": {
        "id": "jaeSWVojPjcw",
        "colab_type": "text"
      },
      "source": [
        "Other opperations on List and array"
      ]
    },
    {
      "cell_type": "markdown",
      "metadata": {
        "id": "jLF-rJWCPrqn",
        "colab_type": "text"
      },
      "source": [
        "scalar multiplication"
      ]
    },
    {
      "cell_type": "code",
      "metadata": {
        "id": "ss9PtEdQPpQJ",
        "colab_type": "code",
        "colab": {
          "base_uri": "https://localhost:8080/",
          "height": 35
        },
        "outputId": "cd3a7541-1e4a-4209-ba7e-b71aa06f54d0"
      },
      "source": [
        "2 * A"
      ],
      "execution_count": 12,
      "outputs": [
        {
          "output_type": "execute_result",
          "data": {
            "text/plain": [
              "array([2, 4, 6])"
            ]
          },
          "metadata": {
            "tags": []
          },
          "execution_count": 12
        }
      ]
    },
    {
      "cell_type": "markdown",
      "metadata": {
        "id": "mlCYy5f8PzPh",
        "colab_type": "text"
      },
      "source": [
        "list scalar multiplication is repitition"
      ]
    },
    {
      "cell_type": "code",
      "metadata": {
        "id": "CUvQqAN4P4aX",
        "colab_type": "code",
        "colab": {
          "base_uri": "https://localhost:8080/",
          "height": 35
        },
        "outputId": "75af58ae-d9a1-48f7-9456-5741b3b71d9b"
      },
      "source": [
        "2 * L"
      ],
      "execution_count": 13,
      "outputs": [
        {
          "output_type": "execute_result",
          "data": {
            "text/plain": [
              "[1, 2, 3, 4, 1, 2, 3, 4]"
            ]
          },
          "metadata": {
            "tags": []
          },
          "execution_count": 13
        }
      ]
    },
    {
      "cell_type": "markdown",
      "metadata": {
        "id": "tfhOiruwQCY-",
        "colab_type": "text"
      },
      "source": [
        "to add 3 to each elements in a list"
      ]
    },
    {
      "cell_type": "markdown",
      "metadata": {
        "id": "dcK_2NrRQLjz",
        "colab_type": "text"
      },
      "source": [
        "use for Loop - option 1"
      ]
    },
    {
      "cell_type": "markdown",
      "metadata": {
        "id": "GHJ7iPLAQUkF",
        "colab_type": "text"
      },
      "source": [
        "first create a new List that is empty"
      ]
    },
    {
      "cell_type": "code",
      "metadata": {
        "id": "w2IQUUzeQSev",
        "colab_type": "code",
        "colab": {}
      },
      "source": [
        "L2 =[]\n",
        "for e in L:\n",
        "  L2.append(e + 3)"
      ],
      "execution_count": 0,
      "outputs": []
    },
    {
      "cell_type": "code",
      "metadata": {
        "id": "_LuHs-y0QmZb",
        "colab_type": "code",
        "colab": {
          "base_uri": "https://localhost:8080/",
          "height": 35
        },
        "outputId": "fdc4c07d-5043-4437-cbc6-76238d1b8cdd"
      },
      "source": [
        "L2"
      ],
      "execution_count": 15,
      "outputs": [
        {
          "output_type": "execute_result",
          "data": {
            "text/plain": [
              "[4, 5, 6, 7]"
            ]
          },
          "metadata": {
            "tags": []
          },
          "execution_count": 15
        }
      ]
    },
    {
      "cell_type": "markdown",
      "metadata": {
        "id": "JQmsVLvYQqKr",
        "colab_type": "text"
      },
      "source": [
        "DO the same thing with list comprehension"
      ]
    },
    {
      "cell_type": "code",
      "metadata": {
        "id": "3AfiyxCaQtGy",
        "colab_type": "code",
        "colab": {
          "base_uri": "https://localhost:8080/",
          "height": 35
        },
        "outputId": "1bb6f0c9-5150-4320-ea6a-335fa92b407d"
      },
      "source": [
        "L2 = [e + 3 for e in L]\n",
        "L2"
      ],
      "execution_count": 16,
      "outputs": [
        {
          "output_type": "execute_result",
          "data": {
            "text/plain": [
              "[4, 5, 6, 7]"
            ]
          },
          "metadata": {
            "tags": []
          },
          "execution_count": 16
        }
      ]
    },
    {
      "cell_type": "markdown",
      "metadata": {
        "id": "-Z--XEhdQ2d1",
        "colab_type": "text"
      },
      "source": [
        "Want to multiple L by L"
      ]
    },
    {
      "cell_type": "code",
      "metadata": {
        "id": "rv7V2ib_Q_do",
        "colab_type": "code",
        "colab": {}
      },
      "source": [
        "L2 =[]\n",
        "for e in L:\n",
        "  L2.append(e**2)"
      ],
      "execution_count": 0,
      "outputs": []
    },
    {
      "cell_type": "code",
      "metadata": {
        "id": "c1lCFo0ORM5I",
        "colab_type": "code",
        "colab": {
          "base_uri": "https://localhost:8080/",
          "height": 35
        },
        "outputId": "7d4f3d24-9c4d-4380-cac3-0be1e83e0c3b"
      },
      "source": [
        "L2"
      ],
      "execution_count": 18,
      "outputs": [
        {
          "output_type": "execute_result",
          "data": {
            "text/plain": [
              "[1, 4, 9, 16]"
            ]
          },
          "metadata": {
            "tags": []
          },
          "execution_count": 18
        }
      ]
    },
    {
      "cell_type": "markdown",
      "metadata": {
        "id": "Y_RC5TCYRP1F",
        "colab_type": "text"
      },
      "source": [
        "using numpy"
      ]
    },
    {
      "cell_type": "code",
      "metadata": {
        "id": "KlRo8VSmRTqW",
        "colab_type": "code",
        "colab": {
          "base_uri": "https://localhost:8080/",
          "height": 35
        },
        "outputId": "ff5ec4ec-6fbd-4778-c820-02c5d203de14"
      },
      "source": [
        "A**2"
      ],
      "execution_count": 19,
      "outputs": [
        {
          "output_type": "execute_result",
          "data": {
            "text/plain": [
              "array([1, 4, 9])"
            ]
          },
          "metadata": {
            "tags": []
          },
          "execution_count": 19
        }
      ]
    },
    {
      "cell_type": "code",
      "metadata": {
        "id": "WHmzurW0Rb_7",
        "colab_type": "code",
        "colab": {
          "base_uri": "https://localhost:8080/",
          "height": 35
        },
        "outputId": "63849089-8544-49e5-cfe9-d2cdb73a6796"
      },
      "source": [
        "np.sqrt(A)"
      ],
      "execution_count": 20,
      "outputs": [
        {
          "output_type": "execute_result",
          "data": {
            "text/plain": [
              "array([1.        , 1.41421356, 1.73205081])"
            ]
          },
          "metadata": {
            "tags": []
          },
          "execution_count": 20
        }
      ]
    },
    {
      "cell_type": "markdown",
      "metadata": {
        "id": "rRaXzBDZTUnO",
        "colab_type": "text"
      },
      "source": [
        "DOT operations in numpy"
      ]
    },
    {
      "cell_type": "code",
      "metadata": {
        "id": "Tlq7h2eQSvda",
        "colab_type": "code",
        "colab": {}
      },
      "source": [
        "a = np.array([1,2])\n",
        "b = np.array([3,4])"
      ],
      "execution_count": 0,
      "outputs": []
    },
    {
      "cell_type": "code",
      "metadata": {
        "id": "sxHKaVTZS6w9",
        "colab_type": "code",
        "colab": {
          "base_uri": "https://localhost:8080/",
          "height": 35
        },
        "outputId": "108f166a-1b06-4703-d79a-c9b073910bfb"
      },
      "source": [
        "dot = 0\n",
        "for e, f in zip(a, b):\n",
        "  dot += e * f\n",
        "dot"
      ],
      "execution_count": 22,
      "outputs": [
        {
          "output_type": "execute_result",
          "data": {
            "text/plain": [
              "11"
            ]
          },
          "metadata": {
            "tags": []
          },
          "execution_count": 22
        }
      ]
    },
    {
      "cell_type": "markdown",
      "metadata": {
        "id": "N_Eyy8_GTYbW",
        "colab_type": "text"
      },
      "source": [
        "another approach"
      ]
    },
    {
      "cell_type": "code",
      "metadata": {
        "id": "-7nOBrRDTbaf",
        "colab_type": "code",
        "colab": {
          "base_uri": "https://localhost:8080/",
          "height": 35
        },
        "outputId": "eccbdf60-6f50-4274-e8cd-8a5882ca1a56"
      },
      "source": [
        "dot = 0\n",
        "for i in range(len(a)):\n",
        "  dot += a[i] * b[i]\n",
        "dot"
      ],
      "execution_count": 24,
      "outputs": [
        {
          "output_type": "execute_result",
          "data": {
            "text/plain": [
              "11"
            ]
          },
          "metadata": {
            "tags": []
          },
          "execution_count": 24
        }
      ]
    },
    {
      "cell_type": "code",
      "metadata": {
        "id": "h-pgkb2tT70K",
        "colab_type": "code",
        "colab": {
          "base_uri": "https://localhost:8080/",
          "height": 35
        },
        "outputId": "78e11918-bd11-4c39-8876-b2ec22143eb8"
      },
      "source": [
        "np.sum(a * b)"
      ],
      "execution_count": 25,
      "outputs": [
        {
          "output_type": "execute_result",
          "data": {
            "text/plain": [
              "11"
            ]
          },
          "metadata": {
            "tags": []
          },
          "execution_count": 25
        }
      ]
    },
    {
      "cell_type": "code",
      "metadata": {
        "id": "cnyWiO_1UDKE",
        "colab_type": "code",
        "colab": {
          "base_uri": "https://localhost:8080/",
          "height": 35
        },
        "outputId": "45f67c4d-3770-4413-96ff-63b119941afc"
      },
      "source": [
        "(a*b).sum()"
      ],
      "execution_count": 26,
      "outputs": [
        {
          "output_type": "execute_result",
          "data": {
            "text/plain": [
              "11"
            ]
          },
          "metadata": {
            "tags": []
          },
          "execution_count": 26
        }
      ]
    },
    {
      "cell_type": "code",
      "metadata": {
        "id": "85pLjcuYUJYN",
        "colab_type": "code",
        "colab": {
          "base_uri": "https://localhost:8080/",
          "height": 35
        },
        "outputId": "35514adb-89e0-4db1-dca9-43ae9713f4b8"
      },
      "source": [
        "np.dot(a, b)"
      ],
      "execution_count": 27,
      "outputs": [
        {
          "output_type": "execute_result",
          "data": {
            "text/plain": [
              "11"
            ]
          },
          "metadata": {
            "tags": []
          },
          "execution_count": 27
        }
      ]
    },
    {
      "cell_type": "code",
      "metadata": {
        "id": "LG06VCciUTaz",
        "colab_type": "code",
        "colab": {
          "base_uri": "https://localhost:8080/",
          "height": 35
        },
        "outputId": "65036d40-23b2-44a6-d3f7-b35b24b0cb4c"
      },
      "source": [
        "a.dot(b)"
      ],
      "execution_count": 28,
      "outputs": [
        {
          "output_type": "execute_result",
          "data": {
            "text/plain": [
              "11"
            ]
          },
          "metadata": {
            "tags": []
          },
          "execution_count": 28
        }
      ]
    },
    {
      "cell_type": "code",
      "metadata": {
        "id": "ANoaLlrQUb2V",
        "colab_type": "code",
        "colab": {
          "base_uri": "https://localhost:8080/",
          "height": 35
        },
        "outputId": "3e47652a-9a21-4bd0-cdcd-1d66b76a7762"
      },
      "source": [
        "a @ b"
      ],
      "execution_count": 29,
      "outputs": [
        {
          "output_type": "execute_result",
          "data": {
            "text/plain": [
              "11"
            ]
          },
          "metadata": {
            "tags": []
          },
          "execution_count": 29
        }
      ]
    },
    {
      "cell_type": "markdown",
      "metadata": {
        "id": "xpsORSZWUyGj",
        "colab_type": "text"
      },
      "source": [
        "Speed Test"
      ]
    },
    {
      "cell_type": "code",
      "metadata": {
        "id": "KSWZdvsJUu_B",
        "colab_type": "code",
        "colab": {}
      },
      "source": [
        "from datetime import datetime"
      ],
      "execution_count": 0,
      "outputs": []
    },
    {
      "cell_type": "markdown",
      "metadata": {
        "id": "SDCKS29UWXMr",
        "colab_type": "text"
      },
      "source": [
        "#note: you can also use %timeit - To check that later"
      ]
    },
    {
      "cell_type": "code",
      "metadata": {
        "id": "UMGAePfWWUoq",
        "colab_type": "code",
        "colab": {}
      },
      "source": [
        "a = np.random.randn(100)\n",
        "b = np.random.randn(100)\n",
        "T = 100000"
      ],
      "execution_count": 0,
      "outputs": []
    },
    {
      "cell_type": "markdown",
      "metadata": {
        "id": "CmksNd2OT8la",
        "colab_type": "text"
      },
      "source": [
        "create a function"
      ]
    },
    {
      "cell_type": "code",
      "metadata": {
        "id": "R1z8K664WwM-",
        "colab_type": "code",
        "colab": {}
      },
      "source": [
        "def slow_dot_product(a, b):\n",
        "  result = 0\n",
        "  for e, f in zip(a , b):\n",
        "    result += e * f\n",
        "  return result"
      ],
      "execution_count": 0,
      "outputs": []
    },
    {
      "cell_type": "code",
      "metadata": {
        "id": "QKNGOVwGXd4U",
        "colab_type": "code",
        "colab": {}
      },
      "source": [
        "t0 = datetime.now()\n",
        "for t in range(T):\n",
        "  slow_dot_product(a , b)\n",
        "dt1 = datetime.now() - t0"
      ],
      "execution_count": 0,
      "outputs": []
    },
    {
      "cell_type": "markdown",
      "metadata": {
        "id": "XEd62jkoYiF8",
        "colab_type": "text"
      },
      "source": [
        "using list comprehension"
      ]
    },
    {
      "cell_type": "code",
      "metadata": {
        "id": "3nGXeGzVYm-l",
        "colab_type": "code",
        "colab": {}
      },
      "source": [
        "t0 = datetime.now()\n",
        "[slow_dot_product(a, b) for t in range(T)]\n",
        "dt1 = datetime.now() - t0"
      ],
      "execution_count": 0,
      "outputs": []
    },
    {
      "cell_type": "code",
      "metadata": {
        "id": "YMNFBU7TX4XJ",
        "colab_type": "code",
        "colab": {}
      },
      "source": [
        "t0 = datetime.now()\n",
        "for t in range(T):\n",
        "  a.dot(b)\n",
        "dt2 = datetime.now() - t0"
      ],
      "execution_count": 0,
      "outputs": []
    },
    {
      "cell_type": "code",
      "metadata": {
        "id": "FM5pCazqYJ5l",
        "colab_type": "code",
        "colab": {
          "base_uri": "https://localhost:8080/",
          "height": 35
        },
        "outputId": "b86ce763-e44f-45e2-bd73-e4b54c90ad60"
      },
      "source": [
        "print(\"dt1/dt2:\", dt1.total_seconds() / dt2.total_seconds())"
      ],
      "execution_count": 37,
      "outputs": [
        {
          "output_type": "stream",
          "text": [
            "dt1/dt2: 47.838132339656724\n"
          ],
          "name": "stdout"
        }
      ]
    },
    {
      "cell_type": "markdown",
      "metadata": {
        "id": "Y9sA18aIYbjE",
        "colab_type": "text"
      },
      "source": [
        "Matric"
      ]
    },
    {
      "cell_type": "code",
      "metadata": {
        "id": "ThPPkcxeZ544",
        "colab_type": "code",
        "colab": {
          "base_uri": "https://localhost:8080/",
          "height": 35
        },
        "outputId": "ba8286b4-5a38-4334-c762-e86a9706b368"
      },
      "source": [
        "L = [[1,2], [3,4]]\n",
        "L"
      ],
      "execution_count": 38,
      "outputs": [
        {
          "output_type": "execute_result",
          "data": {
            "text/plain": [
              "[[1, 2], [3, 4]]"
            ]
          },
          "metadata": {
            "tags": []
          },
          "execution_count": 38
        }
      ]
    },
    {
      "cell_type": "code",
      "metadata": {
        "id": "WpDLwA7raDVO",
        "colab_type": "code",
        "colab": {
          "base_uri": "https://localhost:8080/",
          "height": 35
        },
        "outputId": "29ef1820-d479-43ae-c07c-90209a9ec7c4"
      },
      "source": [
        "L[0]"
      ],
      "execution_count": 39,
      "outputs": [
        {
          "output_type": "execute_result",
          "data": {
            "text/plain": [
              "[1, 2]"
            ]
          },
          "metadata": {
            "tags": []
          },
          "execution_count": 39
        }
      ]
    },
    {
      "cell_type": "code",
      "metadata": {
        "id": "Vz5D0Z3OaGgG",
        "colab_type": "code",
        "colab": {
          "base_uri": "https://localhost:8080/",
          "height": 35
        },
        "outputId": "172dac25-531c-49fe-b47e-5313ce5ffe36"
      },
      "source": [
        "L[0][1]"
      ],
      "execution_count": 40,
      "outputs": [
        {
          "output_type": "execute_result",
          "data": {
            "text/plain": [
              "2"
            ]
          },
          "metadata": {
            "tags": []
          },
          "execution_count": 40
        }
      ]
    },
    {
      "cell_type": "markdown",
      "metadata": {
        "id": "cNTmuSGhaLuL",
        "colab_type": "text"
      },
      "source": [
        "using numpy array"
      ]
    },
    {
      "cell_type": "code",
      "metadata": {
        "id": "Ur1d5GffaNwv",
        "colab_type": "code",
        "colab": {
          "base_uri": "https://localhost:8080/",
          "height": 52
        },
        "outputId": "2855a73f-d383-4f71-ad8f-8b92ac75cb28"
      },
      "source": [
        "A = np.array([[1,2], [3,4]])\n",
        "A"
      ],
      "execution_count": 42,
      "outputs": [
        {
          "output_type": "execute_result",
          "data": {
            "text/plain": [
              "array([[1, 2],\n",
              "       [3, 4]])"
            ]
          },
          "metadata": {
            "tags": []
          },
          "execution_count": 42
        }
      ]
    },
    {
      "cell_type": "code",
      "metadata": {
        "id": "Av6Q0xzDgyZN",
        "colab_type": "code",
        "colab": {
          "base_uri": "https://localhost:8080/",
          "height": 35
        },
        "outputId": "e31b7cf3-d4e6-4b38-f266-07f2d4dcadb1"
      },
      "source": [
        "A[0][1]"
      ],
      "execution_count": 43,
      "outputs": [
        {
          "output_type": "execute_result",
          "data": {
            "text/plain": [
              "2"
            ]
          },
          "metadata": {
            "tags": []
          },
          "execution_count": 43
        }
      ]
    },
    {
      "cell_type": "code",
      "metadata": {
        "id": "_N45ois7g1wW",
        "colab_type": "code",
        "colab": {
          "base_uri": "https://localhost:8080/",
          "height": 35
        },
        "outputId": "99b68313-5990-432f-9912-269c66d8dc0a"
      },
      "source": [
        "A[0,1]"
      ],
      "execution_count": 45,
      "outputs": [
        {
          "output_type": "execute_result",
          "data": {
            "text/plain": [
              "2"
            ]
          },
          "metadata": {
            "tags": []
          },
          "execution_count": 45
        }
      ]
    },
    {
      "cell_type": "code",
      "metadata": {
        "id": "gPTQb3e1g65H",
        "colab_type": "code",
        "colab": {
          "base_uri": "https://localhost:8080/",
          "height": 35
        },
        "outputId": "4f6a8808-fb5a-4cf4-912e-cb9be9d038bd"
      },
      "source": [
        "A[:,0]"
      ],
      "execution_count": 46,
      "outputs": [
        {
          "output_type": "execute_result",
          "data": {
            "text/plain": [
              "array([1, 3])"
            ]
          },
          "metadata": {
            "tags": []
          },
          "execution_count": 46
        }
      ]
    },
    {
      "cell_type": "code",
      "metadata": {
        "id": "iY7FZJuQg-mv",
        "colab_type": "code",
        "colab": {
          "base_uri": "https://localhost:8080/",
          "height": 52
        },
        "outputId": "00eb40bc-ea9c-46b1-baf8-669109d35230"
      },
      "source": [
        "A.T"
      ],
      "execution_count": 47,
      "outputs": [
        {
          "output_type": "execute_result",
          "data": {
            "text/plain": [
              "array([[1, 3],\n",
              "       [2, 4]])"
            ]
          },
          "metadata": {
            "tags": []
          },
          "execution_count": 47
        }
      ]
    },
    {
      "cell_type": "code",
      "metadata": {
        "id": "XOJ9XsxMhD_y",
        "colab_type": "code",
        "colab": {
          "base_uri": "https://localhost:8080/",
          "height": 52
        },
        "outputId": "f5009b58-c29b-4ddf-aab9-2182603de291"
      },
      "source": [
        "np.exp(A)"
      ],
      "execution_count": 48,
      "outputs": [
        {
          "output_type": "execute_result",
          "data": {
            "text/plain": [
              "array([[ 2.71828183,  7.3890561 ],\n",
              "       [20.08553692, 54.59815003]])"
            ]
          },
          "metadata": {
            "tags": []
          },
          "execution_count": 48
        }
      ]
    },
    {
      "cell_type": "code",
      "metadata": {
        "id": "H730-qQ5hIIa",
        "colab_type": "code",
        "colab": {
          "base_uri": "https://localhost:8080/",
          "height": 52
        },
        "outputId": "a3d0a0d0-54e0-4397-9694-5e9fb095d6a7"
      },
      "source": [
        "np.exp(L)"
      ],
      "execution_count": 49,
      "outputs": [
        {
          "output_type": "execute_result",
          "data": {
            "text/plain": [
              "array([[ 2.71828183,  7.3890561 ],\n",
              "       [20.08553692, 54.59815003]])"
            ]
          },
          "metadata": {
            "tags": []
          },
          "execution_count": 49
        }
      ]
    },
    {
      "cell_type": "code",
      "metadata": {
        "id": "elwRjLxUhQVN",
        "colab_type": "code",
        "colab": {
          "base_uri": "https://localhost:8080/",
          "height": 52
        },
        "outputId": "7dbfb3ae-b938-4967-c423-4dc42b71d3c4"
      },
      "source": [
        "B = np.array([[1,2,3], [4,5,6]])\n",
        "B"
      ],
      "execution_count": 51,
      "outputs": [
        {
          "output_type": "execute_result",
          "data": {
            "text/plain": [
              "array([[1, 2, 3],\n",
              "       [4, 5, 6]])"
            ]
          },
          "metadata": {
            "tags": []
          },
          "execution_count": 51
        }
      ]
    },
    {
      "cell_type": "markdown",
      "metadata": {
        "id": "EMwnxXpUhl7H",
        "colab_type": "text"
      },
      "source": [
        "Matric operations"
      ]
    },
    {
      "cell_type": "code",
      "metadata": {
        "id": "KxR7jGybhZhT",
        "colab_type": "code",
        "colab": {
          "base_uri": "https://localhost:8080/",
          "height": 52
        },
        "outputId": "659a575b-4183-4f30-8ccd-6dc9e9ed81f3"
      },
      "source": [
        "A.dot(B)"
      ],
      "execution_count": 52,
      "outputs": [
        {
          "output_type": "execute_result",
          "data": {
            "text/plain": [
              "array([[ 9, 12, 15],\n",
              "       [19, 26, 33]])"
            ]
          },
          "metadata": {
            "tags": []
          },
          "execution_count": 52
        }
      ]
    },
    {
      "cell_type": "code",
      "metadata": {
        "id": "QfcNBtoghpRN",
        "colab_type": "code",
        "colab": {
          "base_uri": "https://localhost:8080/",
          "height": 35
        },
        "outputId": "ea891a8e-b4d6-44a7-88be-737305b7388e"
      },
      "source": [
        "np.linalg.det(A)"
      ],
      "execution_count": 53,
      "outputs": [
        {
          "output_type": "execute_result",
          "data": {
            "text/plain": [
              "-2.0000000000000004"
            ]
          },
          "metadata": {
            "tags": []
          },
          "execution_count": 53
        }
      ]
    },
    {
      "cell_type": "code",
      "metadata": {
        "id": "-yfwh3dVh8Be",
        "colab_type": "code",
        "colab": {
          "base_uri": "https://localhost:8080/",
          "height": 52
        },
        "outputId": "2e493f2b-35ca-40c6-bfe1-aa3b57e88d3b"
      },
      "source": [
        "np.linalg.inv(A)"
      ],
      "execution_count": 54,
      "outputs": [
        {
          "output_type": "execute_result",
          "data": {
            "text/plain": [
              "array([[-2. ,  1. ],\n",
              "       [ 1.5, -0.5]])"
            ]
          },
          "metadata": {
            "tags": []
          },
          "execution_count": 54
        }
      ]
    },
    {
      "cell_type": "code",
      "metadata": {
        "id": "WvRz78JwiC6X",
        "colab_type": "code",
        "colab": {
          "base_uri": "https://localhost:8080/",
          "height": 52
        },
        "outputId": "da8af2b5-5bec-4111-b38d-c96c39d612af"
      },
      "source": [
        "np.linalg.inv(A).dot(A)"
      ],
      "execution_count": 55,
      "outputs": [
        {
          "output_type": "execute_result",
          "data": {
            "text/plain": [
              "array([[1.00000000e+00, 0.00000000e+00],\n",
              "       [1.11022302e-16, 1.00000000e+00]])"
            ]
          },
          "metadata": {
            "tags": []
          },
          "execution_count": 55
        }
      ]
    },
    {
      "cell_type": "code",
      "metadata": {
        "id": "3BpoQ5RRiJ38",
        "colab_type": "code",
        "colab": {
          "base_uri": "https://localhost:8080/",
          "height": 35
        },
        "outputId": "5289a01e-ec56-4b70-e6f9-c622a1de9909"
      },
      "source": [
        "np.trace(A)"
      ],
      "execution_count": 56,
      "outputs": [
        {
          "output_type": "execute_result",
          "data": {
            "text/plain": [
              "5"
            ]
          },
          "metadata": {
            "tags": []
          },
          "execution_count": 56
        }
      ]
    },
    {
      "cell_type": "code",
      "metadata": {
        "id": "pst9kxGOiQAn",
        "colab_type": "code",
        "colab": {
          "base_uri": "https://localhost:8080/",
          "height": 35
        },
        "outputId": "df716e67-3487-44b8-fdea-74150e0282b0"
      },
      "source": [
        "np.diag(A)"
      ],
      "execution_count": 57,
      "outputs": [
        {
          "output_type": "execute_result",
          "data": {
            "text/plain": [
              "array([1, 4])"
            ]
          },
          "metadata": {
            "tags": []
          },
          "execution_count": 57
        }
      ]
    },
    {
      "cell_type": "code",
      "metadata": {
        "id": "AZdUNRVgiTkl",
        "colab_type": "code",
        "colab": {
          "base_uri": "https://localhost:8080/",
          "height": 52
        },
        "outputId": "8bf0916c-9622-48cc-a13d-123d3ade9b86"
      },
      "source": [
        "np.diag([1,4])"
      ],
      "execution_count": 58,
      "outputs": [
        {
          "output_type": "execute_result",
          "data": {
            "text/plain": [
              "array([[1, 0],\n",
              "       [0, 4]])"
            ]
          },
          "metadata": {
            "tags": []
          },
          "execution_count": 58
        }
      ]
    },
    {
      "cell_type": "code",
      "metadata": {
        "id": "8QwPHNE0iZdo",
        "colab_type": "code",
        "colab": {
          "base_uri": "https://localhost:8080/",
          "height": 52
        },
        "outputId": "18db0462-ad5d-4aef-ce08-7bbd13d2ca8a"
      },
      "source": [
        "np.linalg.eig(A)"
      ],
      "execution_count": 59,
      "outputs": [
        {
          "output_type": "execute_result",
          "data": {
            "text/plain": [
              "(array([-0.37228132,  5.37228132]), array([[-0.82456484, -0.41597356],\n",
              "        [ 0.56576746, -0.90937671]]))"
            ]
          },
          "metadata": {
            "tags": []
          },
          "execution_count": 59
        }
      ]
    },
    {
      "cell_type": "code",
      "metadata": {
        "id": "xx29c5WCiiu_",
        "colab_type": "code",
        "colab": {}
      },
      "source": [
        "Lam, V=np.linalg.eig(A)"
      ],
      "execution_count": 0,
      "outputs": []
    },
    {
      "cell_type": "code",
      "metadata": {
        "id": "I0pO6ds3iz02",
        "colab_type": "code",
        "colab": {
          "base_uri": "https://localhost:8080/",
          "height": 35
        },
        "outputId": "3844513d-1497-4a10-aaa3-9bafa87ec772"
      },
      "source": [
        "V[:, 0] * Lam[0] == A@ V[:, 0]"
      ],
      "execution_count": 64,
      "outputs": [
        {
          "output_type": "execute_result",
          "data": {
            "text/plain": [
              "array([ True, False])"
            ]
          },
          "metadata": {
            "tags": []
          },
          "execution_count": 64
        }
      ]
    },
    {
      "cell_type": "code",
      "metadata": {
        "id": "zHy9pBmvjs4f",
        "colab_type": "code",
        "colab": {
          "base_uri": "https://localhost:8080/",
          "height": 35
        },
        "outputId": "272eb752-e159-4d83-fe74-3811c70a6e9f"
      },
      "source": [
        "V[:, 0] * Lam[0], A @ V[:, 0]"
      ],
      "execution_count": 65,
      "outputs": [
        {
          "output_type": "execute_result",
          "data": {
            "text/plain": [
              "(array([ 0.30697009, -0.21062466]), array([ 0.30697009, -0.21062466]))"
            ]
          },
          "metadata": {
            "tags": []
          },
          "execution_count": 65
        }
      ]
    },
    {
      "cell_type": "code",
      "metadata": {
        "id": "8Itw_SfMj7AY",
        "colab_type": "code",
        "colab": {
          "base_uri": "https://localhost:8080/",
          "height": 35
        },
        "outputId": "1c320ffd-594a-4bfb-ba2c-c3d85918ab68"
      },
      "source": [
        "np.allclose(V[:, 0] * Lam[0], A @ V[:, 0])"
      ],
      "execution_count": 66,
      "outputs": [
        {
          "output_type": "execute_result",
          "data": {
            "text/plain": [
              "True"
            ]
          },
          "metadata": {
            "tags": []
          },
          "execution_count": 66
        }
      ]
    },
    {
      "cell_type": "code",
      "metadata": {
        "id": "jDL-w2spkPT_",
        "colab_type": "code",
        "colab": {
          "base_uri": "https://localhost:8080/",
          "height": 35
        },
        "outputId": "8146bde3-bb6f-45f3-a503-536a9d1a3d32"
      },
      "source": [
        "np.allclose(V @np.diag(Lam), A @V)"
      ],
      "execution_count": 67,
      "outputs": [
        {
          "output_type": "execute_result",
          "data": {
            "text/plain": [
              "True"
            ]
          },
          "metadata": {
            "tags": []
          },
          "execution_count": 67
        }
      ]
    }
  ]
}