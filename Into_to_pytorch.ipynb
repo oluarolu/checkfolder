{
  "nbformat": 4,
  "nbformat_minor": 0,
  "metadata": {
    "colab": {
      "name": "Into to pytorch.ipynb",
      "provenance": [],
      "collapsed_sections": [],
      "authorship_tag": "ABX9TyOyBFv52RdonB7Vcbauuq1d",
      "include_colab_link": true
    },
    "kernelspec": {
      "name": "python3",
      "display_name": "Python 3"
    }
  },
  "cells": [
    {
      "cell_type": "markdown",
      "metadata": {
        "id": "view-in-github",
        "colab_type": "text"
      },
      "source": [
        "<a href=\"https://colab.research.google.com/github/oluarolu/checkfolder/blob/master/Into_to_pytorch.ipynb\" target=\"_parent\"><img src=\"https://colab.research.google.com/assets/colab-badge.svg\" alt=\"Open In Colab\"/></a>"
      ]
    },
    {
      "cell_type": "markdown",
      "metadata": {
        "id": "zVthp2NMzS7e",
        "colab_type": "text"
      },
      "source": [
        "Import torch library"
      ]
    },
    {
      "cell_type": "code",
      "metadata": {
        "id": "87ZLrM7Tyr5u",
        "colab_type": "code",
        "colab": {}
      },
      "source": [
        "import torch"
      ],
      "execution_count": 0,
      "outputs": []
    },
    {
      "cell_type": "markdown",
      "metadata": {
        "id": "L7REHPdEzbLz",
        "colab_type": "text"
      },
      "source": [
        "initialize a tensor"
      ]
    },
    {
      "cell_type": "code",
      "metadata": {
        "id": "NyR3kpV0y-aT",
        "colab_type": "code",
        "outputId": "c8a6d01c-9a25-411b-bf9e-0dc4379f2482",
        "colab": {
          "base_uri": "https://localhost:8080/",
          "height": 52
        }
      },
      "source": [
        "a = torch.ones((2, 2), requires_grad=True)\n",
        "\n",
        "a"
      ],
      "execution_count": 0,
      "outputs": [
        {
          "output_type": "execute_result",
          "data": {
            "text/plain": [
              "tensor([[1., 1.],\n",
              "        [1., 1.]], requires_grad=True)"
            ]
          },
          "metadata": {
            "tags": []
          },
          "execution_count": 3
        }
      ]
    },
    {
      "cell_type": "markdown",
      "metadata": {
        "id": "gMqMd9-TzRJm",
        "colab_type": "text"
      },
      "source": [
        "perform operations on the tensor"
      ]
    },
    {
      "cell_type": "code",
      "metadata": {
        "id": "EmMsgqvpzQdn",
        "colab_type": "code",
        "colab": {}
      },
      "source": [
        "b = a + 5"
      ],
      "execution_count": 0,
      "outputs": []
    },
    {
      "cell_type": "code",
      "metadata": {
        "id": "a2EaSWOoznma",
        "colab_type": "code",
        "colab": {}
      },
      "source": [
        "c = b.mean()"
      ],
      "execution_count": 0,
      "outputs": []
    },
    {
      "cell_type": "code",
      "metadata": {
        "id": "qsolyF0_zq_H",
        "colab_type": "code",
        "outputId": "dccb8ed3-1391-4b99-e3ef-0f3617279fd6",
        "colab": {
          "base_uri": "https://localhost:8080/",
          "height": 52
        }
      },
      "source": [
        "print(b, c)"
      ],
      "execution_count": 0,
      "outputs": [
        {
          "output_type": "stream",
          "text": [
            "tensor([[6., 6.],\n",
            "        [6., 6.]], grad_fn=<AddBackward0>) tensor(6., grad_fn=<MeanBackward0>)\n"
          ],
          "name": "stdout"
        }
      ]
    },
    {
      "cell_type": "markdown",
      "metadata": {
        "id": "nH7rvZB9z8DG",
        "colab_type": "text"
      },
      "source": [
        "The derivative of c wrt to a will be 1/4 hence the gradient of the matric will be 0.25. Checking with pytourch"
      ]
    },
    {
      "cell_type": "markdown",
      "metadata": {
        "id": "-R3JzXt10Kjy",
        "colab_type": "text"
      },
      "source": [
        "back propagating"
      ]
    },
    {
      "cell_type": "code",
      "metadata": {
        "id": "USp5C8RX0QKX",
        "colab_type": "code",
        "colab": {}
      },
      "source": [
        "c.backward()"
      ],
      "execution_count": 0,
      "outputs": []
    },
    {
      "cell_type": "markdown",
      "metadata": {
        "id": "jFu1z5RI0Vb2",
        "colab_type": "text"
      },
      "source": [
        "computin the gradient"
      ]
    },
    {
      "cell_type": "code",
      "metadata": {
        "id": "4OOIzGQa0Xwr",
        "colab_type": "code",
        "outputId": "d259ef20-24a4-4021-dba7-ca3f384b9aa3",
        "colab": {
          "base_uri": "https://localhost:8080/",
          "height": 52
        }
      },
      "source": [
        "print(a.grad)"
      ],
      "execution_count": 0,
      "outputs": [
        {
          "output_type": "stream",
          "text": [
            "tensor([[0.5000, 0.5000],\n",
            "        [0.5000, 0.5000]])\n"
          ],
          "name": "stdout"
        }
      ]
    },
    {
      "cell_type": "markdown",
      "metadata": {
        "id": "_58WEYE60mao",
        "colab_type": "text"
      },
      "source": [
        "import Optim module -pytorch modle for optimizers"
      ]
    },
    {
      "cell_type": "code",
      "metadata": {
        "id": "2813kBf10tCA",
        "colab_type": "code",
        "colab": {}
      },
      "source": [
        "from torch import optim"
      ],
      "execution_count": 0,
      "outputs": []
    },
    {
      "cell_type": "markdown",
      "metadata": {
        "id": "vsxlBarw1OHt",
        "colab_type": "text"
      },
      "source": [
        "Implementing a Neural Network from Scracth"
      ]
    },
    {
      "cell_type": "markdown",
      "metadata": {
        "id": "e0HM3RUQ1bnP",
        "colab_type": "text"
      },
      "source": [
        "Initialize the input tensor"
      ]
    },
    {
      "cell_type": "code",
      "metadata": {
        "id": "mtgZlYzb1X7f",
        "colab_type": "code",
        "outputId": "0801aa13-3964-470a-d060-0c2575527009",
        "colab": {
          "base_uri": "https://localhost:8080/",
          "height": 69
        }
      },
      "source": [
        "X = torch.Tensor([[1, 0, 1, 0], [1, 0, 1, 1], [0, 1, 0, 1]])\n",
        "\n",
        "X"
      ],
      "execution_count": 0,
      "outputs": [
        {
          "output_type": "execute_result",
          "data": {
            "text/plain": [
              "tensor([[1., 0., 1., 0.],\n",
              "        [1., 0., 1., 1.],\n",
              "        [0., 1., 0., 1.]])"
            ]
          },
          "metadata": {
            "tags": []
          },
          "execution_count": 12
        }
      ]
    },
    {
      "cell_type": "markdown",
      "metadata": {
        "id": "e5tXWQao1-H2",
        "colab_type": "text"
      },
      "source": [
        "Output"
      ]
    },
    {
      "cell_type": "code",
      "metadata": {
        "id": "J4pt2P4Q19wk",
        "colab_type": "code",
        "colab": {
          "base_uri": "https://localhost:8080/",
          "height": 69
        },
        "outputId": "6eb13508-4d1c-440e-beee-e72b8e10d03e"
      },
      "source": [
        "y =torch.Tensor([[1], [1], [0]])\n",
        "\n",
        "y"
      ],
      "execution_count": 14,
      "outputs": [
        {
          "output_type": "execute_result",
          "data": {
            "text/plain": [
              "tensor([[1.],\n",
              "        [1.],\n",
              "        [0.]])"
            ]
          },
          "metadata": {
            "tags": []
          },
          "execution_count": 14
        }
      ]
    },
    {
      "cell_type": "code",
      "metadata": {
        "id": "6jftxqV758O3",
        "colab_type": "code",
        "colab": {
          "base_uri": "https://localhost:8080/",
          "height": 139
        },
        "outputId": "5f6a5dce-b759-44e4-8cd4-ad676ac67ba3"
      },
      "source": [
        "print(X, '\\n')\n",
        "\n",
        "print(y)"
      ],
      "execution_count": 15,
      "outputs": [
        {
          "output_type": "stream",
          "text": [
            "tensor([[1., 0., 1., 0.],\n",
            "        [1., 0., 1., 1.],\n",
            "        [0., 1., 0., 1.]]) \n",
            "\n",
            "tensor([[1.],\n",
            "        [1.],\n",
            "        [0.]])\n"
          ],
          "name": "stdout"
        }
      ]
    },
    {
      "cell_type": "markdown",
      "metadata": {
        "id": "cLDi8VRb6HxP",
        "colab_type": "text"
      },
      "source": [
        "define as sigmoid function that will act as activation function"
      ]
    },
    {
      "cell_type": "markdown",
      "metadata": {
        "id": "_7hb_86N6bdW",
        "colab_type": "text"
      },
      "source": [
        "define a sigmoid function"
      ]
    },
    {
      "cell_type": "code",
      "metadata": {
        "id": "f5K1pT2h6NS7",
        "colab_type": "code",
        "colab": {}
      },
      "source": [
        "def sigmoid (x):\n",
        "  return 1/(1 + torch.exp(-x))"
      ],
      "execution_count": 0,
      "outputs": []
    },
    {
      "cell_type": "markdown",
      "metadata": {
        "id": "ZnWkmeSe6f2u",
        "colab_type": "text"
      },
      "source": [
        "define derivative of Sigmoid function"
      ]
    },
    {
      "cell_type": "code",
      "metadata": {
        "id": "lrme0PGL6fXq",
        "colab_type": "code",
        "colab": {}
      },
      "source": [
        "def derivatives_sigmoid(x):\n",
        "  return sigmoid(x) * (1 - sigmoid(x))"
      ],
      "execution_count": 0,
      "outputs": []
    },
    {
      "cell_type": "markdown",
      "metadata": {
        "id": "AaTCizDO61y0",
        "colab_type": "text"
      },
      "source": [
        "initialize parameters for the model including epoch, learning rate, weights, biases etc"
      ]
    },
    {
      "cell_type": "markdown",
      "metadata": {
        "id": "1vgZP8tT6-WA",
        "colab_type": "text"
      },
      "source": [
        "initializing the variables"
      ]
    },
    {
      "cell_type": "markdown",
      "metadata": {
        "id": "CF5Y_y427COw",
        "colab_type": "text"
      },
      "source": [
        "initailizing the epoch"
      ]
    },
    {
      "cell_type": "code",
      "metadata": {
        "id": "BPiIkPEF7F3q",
        "colab_type": "code",
        "colab": {}
      },
      "source": [
        "epoch = 7000 #Setting training iterations"
      ],
      "execution_count": 0,
      "outputs": []
    },
    {
      "cell_type": "code",
      "metadata": {
        "id": "lwtnHZN27Mx-",
        "colab_type": "code",
        "colab": {}
      },
      "source": [
        "lr = 0.1 # Setting learning rate"
      ],
      "execution_count": 0,
      "outputs": []
    },
    {
      "cell_type": "code",
      "metadata": {
        "id": "DE9Qb02Q7Uvg",
        "colab_type": "code",
        "colab": {}
      },
      "source": [
        "inputlayer_neurons = X.shape[1] #number of features in data set"
      ],
      "execution_count": 0,
      "outputs": []
    },
    {
      "cell_type": "code",
      "metadata": {
        "id": "UUGOQe-S8LRV",
        "colab_type": "code",
        "colab": {}
      },
      "source": [
        "hiddenlayer_neurons =3"
      ],
      "execution_count": 0,
      "outputs": []
    },
    {
      "cell_type": "code",
      "metadata": {
        "id": "iIb55fVE7hHE",
        "colab_type": "code",
        "colab": {}
      },
      "source": [
        "output_neurons =1 #no of neurons in output layer"
      ],
      "execution_count": 0,
      "outputs": []
    },
    {
      "cell_type": "markdown",
      "metadata": {
        "id": "g6Zo2XdQ7swd",
        "colab_type": "text"
      },
      "source": [
        "Weight and biase initialization"
      ]
    },
    {
      "cell_type": "code",
      "metadata": {
        "id": "CdWKG-dC7yrN",
        "colab_type": "code",
        "colab": {}
      },
      "source": [
        "wh =torch.randn(inputlayer_neurons, hiddenlayer_neurons).type(torch.FloatTensor)"
      ],
      "execution_count": 0,
      "outputs": []
    },
    {
      "cell_type": "code",
      "metadata": {
        "id": "R_skFaT28ULM",
        "colab_type": "code",
        "colab": {}
      },
      "source": [
        "bh =torch.randn(1, hiddenlayer_neurons).type(torch.FloatTensor)"
      ],
      "execution_count": 0,
      "outputs": []
    },
    {
      "cell_type": "code",
      "metadata": {
        "id": "2Hn8OspG8qSB",
        "colab_type": "code",
        "colab": {}
      },
      "source": [
        "wout = torch.randn(hiddenlayer_neurons, output_neurons)"
      ],
      "execution_count": 0,
      "outputs": []
    },
    {
      "cell_type": "code",
      "metadata": {
        "id": "Pgf8TA2I80pT",
        "colab_type": "code",
        "colab": {}
      },
      "source": [
        "bout = torch.randn(1, output_neurons)"
      ],
      "execution_count": 0,
      "outputs": []
    },
    {
      "cell_type": "markdown",
      "metadata": {
        "id": "tzePk-tj-z1F",
        "colab_type": "text"
      },
      "source": [
        "creating the neural network"
      ]
    },
    {
      "cell_type": "code",
      "metadata": {
        "id": "FZ4thsvM-2pM",
        "colab_type": "code",
        "colab": {}
      },
      "source": [
        "for i in range(epoch):\n",
        "  #forward propagation\n",
        "  hidden_layer_input1 = torch.mm(X, wh)\n",
        "  hidden_layer_input = hidden_layer_input1 + bh\n",
        "  hidden_layer_activations = sigmoid(hidden_layer_input)\n",
        "\n",
        "  output_layer_input1 = torch.mm(hidden_layer_activations, wout)\n",
        "  output_layer_input = output_layer_input1 + bout\n",
        "  output = sigmoid(output_layer_input)\n",
        "\n",
        "  #backpropagation\n",
        "  E = y - output\n",
        "  slope_output_layer = derivatives_sigmoid(output)\n",
        "  slope_hidden_layer = derivatives_sigmoid(hidden_layer_activations)\n",
        "  d_output = E * slope_output_layer\n",
        "  Error_at_hidden_layer = torch.mm(d_output, wout.t())\n",
        "  d_hiddenlayer = Error_at_hidden_layer * slope_hidden_layer\n",
        "\n",
        "\n",
        "  wout += torch.mm(hidden_layer_activations.t(), d_output) * lr\n",
        "  bout += d_output.sum() * lr\n",
        "  wh += torch.mm(X.t(), d_hiddenlayer) * lr\n",
        "  bh += d_output.sum() * lr"
      ],
      "execution_count": 0,
      "outputs": []
    },
    {
      "cell_type": "markdown",
      "metadata": {
        "id": "4JKdsD4vCtan",
        "colab_type": "text"
      },
      "source": [
        "check the output of the model"
      ]
    },
    {
      "cell_type": "code",
      "metadata": {
        "id": "mKwGP6O7CyA0",
        "colab_type": "code",
        "colab": {
          "base_uri": "https://localhost:8080/",
          "height": 173
        },
        "outputId": "aef9c0a7-b557-4fef-83ab-c2ab73802397"
      },
      "source": [
        "print('actual :\\n', y, '\\n')\n",
        "print('predicted :\\n', output)"
      ],
      "execution_count": 46,
      "outputs": [
        {
          "output_type": "stream",
          "text": [
            "actual :\n",
            " tensor([[1.],\n",
            "        [1.],\n",
            "        [0.]]) \n",
            "\n",
            "predicted :\n",
            " tensor([[0.9978],\n",
            "        [0.9974],\n",
            "        [0.0044]])\n"
          ],
          "name": "stdout"
        }
      ]
    },
    {
      "cell_type": "markdown",
      "metadata": {
        "id": "Lt3hZGYbDJBD",
        "colab_type": "text"
      },
      "source": [
        "The target is 1, 1, 0 and the predicted values from the model are 0.9978, 0.9974, 0.0044"
      ]
    }
  ]
}