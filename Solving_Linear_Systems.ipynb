{
  "nbformat": 4,
  "nbformat_minor": 0,
  "metadata": {
    "colab": {
      "name": "Solving Linear Systems.ipynb",
      "provenance": [],
      "collapsed_sections": [],
      "authorship_tag": "ABX9TyMOzbFUL6S0CBNE53n5zV2s",
      "include_colab_link": true
    },
    "kernelspec": {
      "name": "python3",
      "display_name": "Python 3"
    }
  },
  "cells": [
    {
      "cell_type": "markdown",
      "metadata": {
        "id": "view-in-github",
        "colab_type": "text"
      },
      "source": [
        "<a href=\"https://colab.research.google.com/github/oluarolu/checkfolder/blob/master/Solving_Linear_Systems.ipynb\" target=\"_parent\"><img src=\"https://colab.research.google.com/assets/colab-badge.svg\" alt=\"Open In Colab\"/></a>"
      ]
    },
    {
      "cell_type": "markdown",
      "metadata": {
        "id": "YkRblSnPl2yq",
        "colab_type": "text"
      },
      "source": [
        "The admission fee at a small fair is $1.50 for children and $4.00 for adults. On a certain day, 2200 people enter the fair, and $5050 is collected. How many children and how many adults attended?\n",
        "\n",
        "2 equations , 2 unknows\n",
        "\n",
        "x1 + x2 = 2200\n",
        "\n",
        "1.5x1 + 4x2 = 5050 "
      ]
    },
    {
      "cell_type": "code",
      "metadata": {
        "id": "wnWZ6j-rStAC",
        "colab_type": "code",
        "colab": {}
      },
      "source": [
        ""
      ],
      "execution_count": 0,
      "outputs": []
    },
    {
      "cell_type": "markdown",
      "metadata": {
        "id": "OG-DawdNmzir",
        "colab_type": "text"
      },
      "source": [
        "Linear System in Matrix Form\n",
        "\n",
        "x = [x1, x2], A[[1,1],[1.5,4]], B[2020, 5050]"
      ]
    },
    {
      "cell_type": "markdown",
      "metadata": {
        "id": "T2nPn2jJneZf",
        "colab_type": "text"
      },
      "source": [
        "Solving Linear Systems"
      ]
    },
    {
      "cell_type": "code",
      "metadata": {
        "id": "QSmXgx6Tn7l4",
        "colab_type": "code",
        "colab": {}
      },
      "source": [
        "import numpy as np"
      ],
      "execution_count": 0,
      "outputs": []
    },
    {
      "cell_type": "code",
      "metadata": {
        "id": "J7K5tZEpna_n",
        "colab_type": "code",
        "colab": {}
      },
      "source": [
        "A = np.array([[1,1], [1.5, 4]])\n",
        "b = np.array([2200, 5050])"
      ],
      "execution_count": 0,
      "outputs": []
    },
    {
      "cell_type": "code",
      "metadata": {
        "id": "5LQwtFcvn0iP",
        "colab_type": "code",
        "colab": {
          "base_uri": "https://localhost:8080/",
          "height": 35
        },
        "outputId": "68b5fb9d-4296-4598-8539-26ad2458ad39"
      },
      "source": [
        "np.linalg.solve(A, b)"
      ],
      "execution_count": 5,
      "outputs": [
        {
          "output_type": "execute_result",
          "data": {
            "text/plain": [
              "array([1500.,  700.])"
            ]
          },
          "metadata": {
            "tags": []
          },
          "execution_count": 5
        }
      ]
    },
    {
      "cell_type": "markdown",
      "metadata": {
        "id": "kIa59Y8GoQ4y",
        "colab_type": "text"
      },
      "source": [
        "using inverse  and dot operations which is  not adviseable  "
      ]
    },
    {
      "cell_type": "code",
      "metadata": {
        "id": "O3vaMyq1oZdE",
        "colab_type": "code",
        "colab": {
          "base_uri": "https://localhost:8080/",
          "height": 35
        },
        "outputId": "f7557cda-9a09-457a-e714-f318f49cfecc"
      },
      "source": [
        "np.linalg.inv(A).dot(b)"
      ],
      "execution_count": 6,
      "outputs": [
        {
          "output_type": "execute_result",
          "data": {
            "text/plain": [
              "array([1500.,  700.])"
            ]
          },
          "metadata": {
            "tags": []
          },
          "execution_count": 6
        }
      ]
    }
  ]
}